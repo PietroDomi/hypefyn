{
  "nbformat": 4,
  "nbformat_minor": 0,
  "metadata": {
    "colab": {
      "name": "sentimentNB_colab",
      "provenance": []
    },
    "kernelspec": {
      "name": "python3",
      "display_name": "Python 3"
    },
    "accelerator": "GPU"
  },
  "cells": [
    {
      "cell_type": "code",
      "metadata": {
        "id": "W5qUv4xOWGrB",
        "colab_type": "code",
        "colab": {
          "base_uri": "https://localhost:8080/",
          "height": 124
        },
        "outputId": "76ffec04-7ccb-4977-b7ba-766c97d41877"
      },
      "source": [
        "from google.colab import drive\n",
        "drive.mount('/content/drive')\n",
        "\n",
        "drive_path = \"/content/drive/My Drive/Colab Notebooks/hypefyn/\""
      ],
      "execution_count": 1,
      "outputs": [
        {
          "output_type": "stream",
          "text": [
            "Go to this URL in a browser: https://accounts.google.com/o/oauth2/auth?client_id=947318989803-6bn6qk8qdgf4n4g3pfee6491hc0brc4i.apps.googleusercontent.com&redirect_uri=urn%3aietf%3awg%3aoauth%3a2.0%3aoob&response_type=code&scope=email%20https%3a%2f%2fwww.googleapis.com%2fauth%2fdocs.test%20https%3a%2f%2fwww.googleapis.com%2fauth%2fdrive%20https%3a%2f%2fwww.googleapis.com%2fauth%2fdrive.photos.readonly%20https%3a%2f%2fwww.googleapis.com%2fauth%2fpeopleapi.readonly\n",
            "\n",
            "Enter your authorization code:\n",
            "··········\n",
            "Mounted at /content/drive\n"
          ],
          "name": "stdout"
        }
      ]
    },
    {
      "cell_type": "code",
      "metadata": {
        "id": "7p4doIm8Vyrb",
        "colab_type": "code",
        "colab": {}
      },
      "source": [
        "# %%\n",
        "import json\n",
        "from sklearn.pipeline import Pipeline\n",
        "from sklearn.feature_extraction.text import HashingVectorizer, TfidfVectorizer\n",
        "from sklearn.naive_bayes import MultinomialNB\n",
        "from sklearn.metrics import average_precision_score, confusion_matrix, classification_report"
      ],
      "execution_count": 0,
      "outputs": []
    },
    {
      "cell_type": "code",
      "metadata": {
        "id": "WxVPpOUGjTtf",
        "colab_type": "code",
        "colab": {}
      },
      "source": [
        "# %%\n",
        "with open(drive_path+\"data/sentiment140/train_clean_joint.json\",'r') as t:\n",
        "    train = json.load(t)\n",
        "with open(drive_path+\"data/sentiment140/val_clean_joint.json\",'r') as v:\n",
        "    test = json.load(v)\n",
        "\n",
        "# %%\n",
        "pipeline = Pipeline([\n",
        "    ('tfidf', TfidfVectorizer()),  # integer counts to weighted TF-IDF scores\n",
        "    ('classifier', MultinomialNB()),  # train on TF-IDF vectors w/ Naive Bayes classifier\n",
        "])\n"
      ],
      "execution_count": 0,
      "outputs": []
    },
    {
      "cell_type": "code",
      "metadata": {
        "id": "SetXnfTiYvPZ",
        "colab_type": "code",
        "colab": {}
      },
      "source": [
        "def dict_extract(d):\n",
        "    labels = []\n",
        "    texts = []\n",
        "    for k in d.keys():\n",
        "        tweet = d[k]\n",
        "        label = tweet['label']\n",
        "        text = tweet['tokens']\n",
        "        labels.append(label)\n",
        "        texts.append(text)\n",
        "    return texts, labels"
      ],
      "execution_count": 0,
      "outputs": []
    },
    {
      "cell_type": "code",
      "metadata": {
        "id": "geFKnN5RZwR5",
        "colab_type": "code",
        "colab": {}
      },
      "source": [
        "train_text, train_label = dict_extract(train)\n",
        "test_text, test_label = dict_extract(test)"
      ],
      "execution_count": 0,
      "outputs": []
    },
    {
      "cell_type": "code",
      "metadata": {
        "id": "j3LcwqHfWvUU",
        "colab_type": "code",
        "colab": {
          "base_uri": "https://localhost:8080/",
          "height": 312
        },
        "outputId": "83aaba35-9afd-4a88-9cdf-1d61aa290ec4"
      },
      "source": [
        "pipeline.fit(train_text, train_label)"
      ],
      "execution_count": 30,
      "outputs": [
        {
          "output_type": "execute_result",
          "data": {
            "text/plain": [
              "Pipeline(memory=None,\n",
              "         steps=[('tfidf',\n",
              "                 TfidfVectorizer(analyzer='word', binary=False,\n",
              "                                 decode_error='strict',\n",
              "                                 dtype=<class 'numpy.float64'>,\n",
              "                                 encoding='utf-8', input='content',\n",
              "                                 lowercase=True, max_df=1.0, max_features=None,\n",
              "                                 min_df=1, ngram_range=(1, 1), norm='l2',\n",
              "                                 preprocessor=None, smooth_idf=True,\n",
              "                                 stop_words=None, strip_accents=None,\n",
              "                                 sublinear_tf=False,\n",
              "                                 token_pattern='(?u)\\\\b\\\\w\\\\w+\\\\b',\n",
              "                                 tokenizer=None, use_idf=True,\n",
              "                                 vocabulary=None)),\n",
              "                ('classifier',\n",
              "                 MultinomialNB(alpha=1.0, class_prior=None, fit_prior=True))],\n",
              "         verbose=False)"
            ]
          },
          "metadata": {
            "tags": []
          },
          "execution_count": 30
        }
      ]
    },
    {
      "cell_type": "code",
      "metadata": {
        "id": "UCZpBkReaFFc",
        "colab_type": "code",
        "colab": {}
      },
      "source": [
        "test_pred = pipeline.predict(test_text)"
      ],
      "execution_count": 0,
      "outputs": []
    },
    {
      "cell_type": "code",
      "metadata": {
        "id": "akDjiUfTi6LJ",
        "colab_type": "code",
        "colab": {
          "base_uri": "https://localhost:8080/",
          "height": 280
        },
        "outputId": "ae76b23a-5de5-429d-aaa7-a67abd21e4af"
      },
      "source": [
        "print(classification_report(test_label, test_pred),\n",
        "      confusion_matrix(test_label, test_pred))"
      ],
      "execution_count": 36,
      "outputs": [
        {
          "output_type": "stream",
          "text": [
            "              precision    recall  f1-score   support\n",
            "\n",
            "           0       0.63      0.79      0.70       177\n",
            "           2       0.00      0.00      0.00       139\n",
            "           4       0.51      0.78      0.62       182\n",
            "\n",
            "    accuracy                           0.57       498\n",
            "   macro avg       0.38      0.52      0.44       498\n",
            "weighted avg       0.41      0.57      0.48       498\n",
            " [[140   0  37]\n",
            " [ 41   0  98]\n",
            " [ 40   0 142]]\n"
          ],
          "name": "stdout"
        },
        {
          "output_type": "stream",
          "text": [
            "/usr/local/lib/python3.6/dist-packages/sklearn/metrics/_classification.py:1272: UndefinedMetricWarning: Precision and F-score are ill-defined and being set to 0.0 in labels with no predicted samples. Use `zero_division` parameter to control this behavior.\n",
            "  _warn_prf(average, modifier, msg_start, len(result))\n"
          ],
          "name": "stderr"
        }
      ]
    },
    {
      "cell_type": "code",
      "metadata": {
        "id": "ksxD8k3mmVSr",
        "colab_type": "code",
        "colab": {}
      },
      "source": [
        "with open(drive_path+\"data/tweets_clean_joint.json\",'r') as tw:\n",
        "    tweets = json.load(tw)\n",
        "\n",
        "tweets_text, tweets_keyword = dict_extract(tweets)"
      ],
      "execution_count": 0,
      "outputs": []
    },
    {
      "cell_type": "code",
      "metadata": {
        "id": "tclS6-KfvOLH",
        "colab_type": "code",
        "colab": {}
      },
      "source": [
        "import pandas as pd\n",
        "\n",
        "tweets_data = pd.read_csv(drive_path+\"data/all_tweets.csv\")\n",
        "tweets_tweet = tweets_data.text.to_list()"
      ],
      "execution_count": 0,
      "outputs": []
    },
    {
      "cell_type": "code",
      "metadata": {
        "id": "Ik7Pl4S6vpUN",
        "colab_type": "code",
        "colab": {}
      },
      "source": [
        "tweets_pred = pipeline.predict(tweets_text)"
      ],
      "execution_count": 0,
      "outputs": []
    },
    {
      "cell_type": "code",
      "metadata": {
        "id": "OTSNKrxBw4U0",
        "colab_type": "code",
        "colab": {}
      },
      "source": [
        "tweets_sent = [\"Pos\" if sent==4 else \"Neg\" for sent in tweets_pred]\n",
        "tweets_out = pd.concat([tweets_data, pd.DataFrame(tweets_sent,columns=[\"Prediction\"])],axis=1)"
      ],
      "execution_count": 0,
      "outputs": []
    },
    {
      "cell_type": "code",
      "metadata": {
        "id": "rd7-v1fcy5Ma",
        "colab_type": "code",
        "colab": {}
      },
      "source": [
        "tweets_out.to_csv(drive_path+\"data/tweets_pred.csv\")"
      ],
      "execution_count": 0,
      "outputs": []
    }
  ]
}